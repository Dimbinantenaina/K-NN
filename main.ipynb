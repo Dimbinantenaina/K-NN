{
 "cells": [
  {
   "cell_type": "markdown",
   "metadata": {},
   "source": [
    "## k nearest neighbors\n",
    "\n",
    "Recall that the k-nn is a non-parametric classification model. The idea is, given a data point $x$, find the $k$ closest points x and then label x to the class containing the majority of these k datapoints. \n",
    "\n",
    "It can be done using any kind of distance, but in this implementation, we use the Euclidean (or $L_2$) norm. The Euclidean distance of two points $x = (x_1,...,x_n)$ and $y = (y_1, ..., y_n)$ in $\\mathbb{R}^n$ is defined by:\n",
    "\n",
    "          $$ d(x,y) = \\sqrt{\\sum_{i=1}^{n} (x_i-y_i)^2} .$$\n",
    "\n",
    "\n"
   ]
  },
  {
   "cell_type": "code",
   "execution_count": 27,
   "metadata": {
    "collapsed": false
   },
   "outputs": [],
   "source": [
    "from sklearn import datasets\n",
    "import knn\n",
    "import random\n",
    "import numpy as np\n",
    "\n",
    "\n",
    "iris = datasets.load_iris()\n",
    "X = iris.data  \n",
    "y = iris.target\n",
    "# test size\n",
    "ntest = 40*len(y)//100\n",
    "\n",
    "l = list(range(len(y)))\n",
    "random.shuffle(l)\n",
    "# creation of test and train data\n",
    "xtrain = X[l[ntest:]]\n",
    "xtest = X[l[:ntest]]\n",
    "ytrain = y[l[ntest:]]\n",
    "ytest = y[l[:ntest]]"
   ]
  },
  {
   "cell_type": "code",
   "execution_count": 28,
   "metadata": {},
   "outputs": [],
   "source": [
    "model = knn.KNN(k = 8)"
   ]
  },
  {
   "cell_type": "code",
   "execution_count": 29,
   "metadata": {},
   "outputs": [
    {
     "name": "stdout",
     "output_type": "stream",
     "text": [
      "Info: \n",
      " k-NN with  k = 8 and 90 datapoints and 3 labels\n"
     ]
    }
   ],
   "source": [
    "model.fit(xtrain, ytrain)"
   ]
  },
  {
   "cell_type": "code",
   "execution_count": 30,
   "metadata": {},
   "outputs": [],
   "source": [
    "p = model.predict(xtest)"
   ]
  },
  {
   "cell_type": "code",
   "execution_count": 31,
   "metadata": {},
   "outputs": [
    {
     "name": "stdout",
     "output_type": "stream",
     "text": [
      "Miss-classified on test : 1.67%\n"
     ]
    }
   ],
   "source": [
    "print(f'Miss-classified on test : {((p!=ytest).mean()*100).round(2)}%')"
   ]
  }
 ],
 "metadata": {
  "kernelspec": {
   "display_name": "Python 3",
   "language": "python",
   "name": "python3"
  },
  "language_info": {
   "codemirror_mode": {
    "name": "ipython",
    "version": 3
   },
   "file_extension": ".py",
   "mimetype": "text/x-python",
   "name": "python",
   "nbconvert_exporter": "python",
   "pygments_lexer": "ipython3",
   "version": "3.7.3"
  }
 },
 "nbformat": 4,
 "nbformat_minor": 2
}
